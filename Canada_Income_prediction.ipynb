{
  "nbformat": 4,
  "nbformat_minor": 0,
  "metadata": {
    "colab": {
      "name": "Canada_Income_prediction.ipynb",
      "provenance": [],
      "authorship_tag": "ABX9TyMQvagtB+fox4wDFUOt84wK",
      "include_colab_link": true
    },
    "kernelspec": {
      "name": "python3",
      "display_name": "Python 3"
    },
    "language_info": {
      "name": "python"
    }
  },
  "cells": [
    {
      "cell_type": "markdown",
      "metadata": {
        "id": "view-in-github",
        "colab_type": "text"
      },
      "source": [
        "<a href=\"https://colab.research.google.com/github/Yalla-Praveen2212/Canada_Per_Capita_Income/blob/main/Canada_Income_prediction.ipynb\" target=\"_parent\"><img src=\"https://colab.research.google.com/assets/colab-badge.svg\" alt=\"Open In Colab\"/></a>"
      ]
    },
    {
      "cell_type": "code",
      "metadata": {
        "id": "nUYnw3yoaHCK"
      },
      "source": [
        "# IMPORTING LIBRARIES"
      ],
      "execution_count": 81,
      "outputs": []
    },
    {
      "cell_type": "code",
      "metadata": {
        "id": "6MbbBB4TaWuO"
      },
      "source": [
        "import pandas as pd\n",
        "import numpy as np\n",
        "import matplotlib.pyplot as plt\n"
      ],
      "execution_count": 82,
      "outputs": []
    },
    {
      "cell_type": "code",
      "metadata": {
        "id": "8v_oAxEdakkm"
      },
      "source": [
        "#READING THE DATASET"
      ],
      "execution_count": 83,
      "outputs": []
    },
    {
      "cell_type": "code",
      "metadata": {
        "id": "bpAu6eYvaq9M"
      },
      "source": [
        "dataset = pd.read_csv('canada_per_capita_income.csv.txt')\n",
        "X = dataset.iloc[:,:-1].values\n",
        "y = dataset.iloc[:,-1].values"
      ],
      "execution_count": 84,
      "outputs": []
    },
    {
      "cell_type": "code",
      "metadata": {
        "id": "kPaNixHsiqgG"
      },
      "source": [
        "#DISPLAYING FIRST FIVE ELEMENTS"
      ],
      "execution_count": 85,
      "outputs": []
    },
    {
      "cell_type": "code",
      "metadata": {
        "colab": {
          "base_uri": "https://localhost:8080/",
          "height": 204
        },
        "id": "LiVVm-nqii-7",
        "outputId": "17cd5686-3376-4274-b87a-cb150dade065"
      },
      "source": [
        "dataset.head(5)"
      ],
      "execution_count": 86,
      "outputs": [
        {
          "output_type": "execute_result",
          "data": {
            "text/html": [
              "<div>\n",
              "<style scoped>\n",
              "    .dataframe tbody tr th:only-of-type {\n",
              "        vertical-align: middle;\n",
              "    }\n",
              "\n",
              "    .dataframe tbody tr th {\n",
              "        vertical-align: top;\n",
              "    }\n",
              "\n",
              "    .dataframe thead th {\n",
              "        text-align: right;\n",
              "    }\n",
              "</style>\n",
              "<table border=\"1\" class=\"dataframe\">\n",
              "  <thead>\n",
              "    <tr style=\"text-align: right;\">\n",
              "      <th></th>\n",
              "      <th>year</th>\n",
              "      <th>per capita income (US$)</th>\n",
              "    </tr>\n",
              "  </thead>\n",
              "  <tbody>\n",
              "    <tr>\n",
              "      <th>0</th>\n",
              "      <td>1970</td>\n",
              "      <td>3399.299037</td>\n",
              "    </tr>\n",
              "    <tr>\n",
              "      <th>1</th>\n",
              "      <td>1971</td>\n",
              "      <td>3768.297935</td>\n",
              "    </tr>\n",
              "    <tr>\n",
              "      <th>2</th>\n",
              "      <td>1972</td>\n",
              "      <td>4251.175484</td>\n",
              "    </tr>\n",
              "    <tr>\n",
              "      <th>3</th>\n",
              "      <td>1973</td>\n",
              "      <td>4804.463248</td>\n",
              "    </tr>\n",
              "    <tr>\n",
              "      <th>4</th>\n",
              "      <td>1974</td>\n",
              "      <td>5576.514583</td>\n",
              "    </tr>\n",
              "  </tbody>\n",
              "</table>\n",
              "</div>"
            ],
            "text/plain": [
              "   year  per capita income (US$)\n",
              "0  1970              3399.299037\n",
              "1  1971              3768.297935\n",
              "2  1972              4251.175484\n",
              "3  1973              4804.463248\n",
              "4  1974              5576.514583"
            ]
          },
          "metadata": {
            "tags": []
          },
          "execution_count": 86
        }
      ]
    },
    {
      "cell_type": "code",
      "metadata": {
        "colab": {
          "base_uri": "https://localhost:8080/"
        },
        "id": "bDGe1E1LbWt_",
        "outputId": "cb0ad242-f735-419f-b5b3-8a091db0d687"
      },
      "source": [
        "print(X)"
      ],
      "execution_count": 87,
      "outputs": [
        {
          "output_type": "stream",
          "text": [
            "[[1970]\n",
            " [1971]\n",
            " [1972]\n",
            " [1973]\n",
            " [1974]\n",
            " [1975]\n",
            " [1976]\n",
            " [1977]\n",
            " [1978]\n",
            " [1979]\n",
            " [1980]\n",
            " [1981]\n",
            " [1982]\n",
            " [1983]\n",
            " [1984]\n",
            " [1985]\n",
            " [1986]\n",
            " [1987]\n",
            " [1988]\n",
            " [1989]\n",
            " [1990]\n",
            " [1991]\n",
            " [1992]\n",
            " [1993]\n",
            " [1994]\n",
            " [1995]\n",
            " [1996]\n",
            " [1997]\n",
            " [1998]\n",
            " [1999]\n",
            " [2000]\n",
            " [2001]\n",
            " [2002]\n",
            " [2003]\n",
            " [2004]\n",
            " [2005]\n",
            " [2006]\n",
            " [2007]\n",
            " [2008]\n",
            " [2009]\n",
            " [2010]\n",
            " [2011]\n",
            " [2012]\n",
            " [2013]\n",
            " [2014]\n",
            " [2015]\n",
            " [2016]]\n"
          ],
          "name": "stdout"
        }
      ]
    },
    {
      "cell_type": "code",
      "metadata": {
        "colab": {
          "base_uri": "https://localhost:8080/"
        },
        "id": "lZv1cQvTbeko",
        "outputId": "8eff7663-8982-4ab9-e033-ce8aed729221"
      },
      "source": [
        "print(y)"
      ],
      "execution_count": 88,
      "outputs": [
        {
          "output_type": "stream",
          "text": [
            "[ 3399.299037  3768.297935  4251.175484  4804.463248  5576.514583\n",
            "  5998.144346  7062.131392  7100.12617   7247.967035  7602.912681\n",
            "  8355.96812   9434.390652  9619.438377 10416.53659  10790.32872\n",
            " 11018.95585  11482.89153  12974.80662  15080.28345  16426.72548\n",
            " 16838.6732   17266.09769  16412.08309  15875.58673  15755.82027\n",
            " 16369.31725  16699.82668  17310.75775  16622.67187  17581.02414\n",
            " 18987.38241  18601.39724  19232.17556  22739.42628  25719.14715\n",
            " 29198.05569  32738.2629   36144.48122  37446.48609  32755.17682\n",
            " 38420.52289  42334.71121  42665.25597  42676.46837  41039.8936\n",
            " 35175.18898  34229.19363 ]\n"
          ],
          "name": "stdout"
        }
      ]
    },
    {
      "cell_type": "code",
      "metadata": {
        "id": "-zDGW7Qmcjoy"
      },
      "source": [
        "#TRAINING AND TESTING THE DATASET"
      ],
      "execution_count": 89,
      "outputs": []
    },
    {
      "cell_type": "code",
      "metadata": {
        "id": "gA3QNQdfc3J4"
      },
      "source": [
        "from sklearn.model_selection import train_test_split\n",
        "X_train, X_test, y_train, y_test = train_test_split(X, y, test_size=0.3, random_state=1)"
      ],
      "execution_count": 90,
      "outputs": []
    },
    {
      "cell_type": "code",
      "metadata": {
        "colab": {
          "base_uri": "https://localhost:8080/"
        },
        "id": "LV3MVvxYiDys",
        "outputId": "86c84b44-0df3-4d62-9d75-70c805226baf"
      },
      "source": [
        "print(X_train)"
      ],
      "execution_count": 91,
      "outputs": [
        {
          "output_type": "stream",
          "text": [
            "[[2004]\n",
            " [1997]\n",
            " [1991]\n",
            " [1983]\n",
            " [2008]\n",
            " [1987]\n",
            " [2012]\n",
            " [1974]\n",
            " [1998]\n",
            " [1984]\n",
            " [1980]\n",
            " [2011]\n",
            " [2000]\n",
            " [2001]\n",
            " [2010]\n",
            " [1990]\n",
            " [1988]\n",
            " [1995]\n",
            " [1976]\n",
            " [1977]\n",
            " [2014]\n",
            " [1971]\n",
            " [1986]\n",
            " [1970]\n",
            " [1985]\n",
            " [1975]\n",
            " [1981]\n",
            " [1979]\n",
            " [1978]\n",
            " [1982]\n",
            " [2013]\n",
            " [2007]]\n"
          ],
          "name": "stdout"
        }
      ]
    },
    {
      "cell_type": "code",
      "metadata": {
        "colab": {
          "base_uri": "https://localhost:8080/"
        },
        "id": "po_N66DWiDsT",
        "outputId": "daa98258-8801-4c00-ccff-b298455b5df0"
      },
      "source": [
        "print(X_test)"
      ],
      "execution_count": 92,
      "outputs": [
        {
          "output_type": "stream",
          "text": [
            "[[1994]\n",
            " [1992]\n",
            " [2009]\n",
            " [2005]\n",
            " [1972]\n",
            " [1973]\n",
            " [1999]\n",
            " [2002]\n",
            " [2015]\n",
            " [1996]\n",
            " [1989]\n",
            " [2006]\n",
            " [2016]\n",
            " [2003]\n",
            " [1993]]\n"
          ],
          "name": "stdout"
        }
      ]
    },
    {
      "cell_type": "code",
      "metadata": {
        "colab": {
          "base_uri": "https://localhost:8080/"
        },
        "id": "czONGaZQiDmb",
        "outputId": "b7d32f31-6e7e-455b-eeda-b7d8d4dc3fd1"
      },
      "source": [
        "print(y_train)"
      ],
      "execution_count": 93,
      "outputs": [
        {
          "output_type": "stream",
          "text": [
            "[25719.14715  17310.75775  17266.09769  10416.53659  37446.48609\n",
            " 12974.80662  42665.25597   5576.514583 16622.67187  10790.32872\n",
            "  8355.96812  42334.71121  18987.38241  18601.39724  38420.52289\n",
            " 16838.6732   15080.28345  16369.31725   7062.131392  7100.12617\n",
            " 41039.8936    3768.297935 11482.89153   3399.299037 11018.95585\n",
            "  5998.144346  9434.390652  7602.912681  7247.967035  9619.438377\n",
            " 42676.46837  36144.48122 ]\n"
          ],
          "name": "stdout"
        }
      ]
    },
    {
      "cell_type": "code",
      "metadata": {
        "colab": {
          "base_uri": "https://localhost:8080/"
        },
        "id": "fALfM5yPiDeM",
        "outputId": "fd846a22-e30c-48eb-ad59-f00bf5716771"
      },
      "source": [
        "print(y_test)"
      ],
      "execution_count": 94,
      "outputs": [
        {
          "output_type": "stream",
          "text": [
            "[15755.82027  16412.08309  32755.17682  29198.05569   4251.175484\n",
            "  4804.463248 17581.02414  19232.17556  35175.18898  16699.82668\n",
            " 16426.72548  32738.2629   34229.19363  22739.42628  15875.58673 ]\n"
          ],
          "name": "stdout"
        }
      ]
    },
    {
      "cell_type": "code",
      "metadata": {
        "id": "4dp9dmQLdwNB"
      },
      "source": [
        "#TRAINING THE LINEAR REGRESSION MODEL"
      ],
      "execution_count": 95,
      "outputs": []
    },
    {
      "cell_type": "code",
      "metadata": {
        "colab": {
          "base_uri": "https://localhost:8080/"
        },
        "id": "S2L9stN3d3yR",
        "outputId": "3ebddc30-e117-4231-eee7-ad52629064b6"
      },
      "source": [
        "from sklearn.linear_model import LinearRegression\n",
        "lin_reg = LinearRegression()\n",
        "lin_reg.fit(X_train,y_train)"
      ],
      "execution_count": 96,
      "outputs": [
        {
          "output_type": "execute_result",
          "data": {
            "text/plain": [
              "LinearRegression(copy_X=True, fit_intercept=True, n_jobs=None, normalize=False)"
            ]
          },
          "metadata": {
            "tags": []
          },
          "execution_count": 96
        }
      ]
    },
    {
      "cell_type": "code",
      "metadata": {
        "id": "vy44teuVfY6W"
      },
      "source": [
        "#PLOTTING THE LINEAR REGRESSION MODEL"
      ],
      "execution_count": 97,
      "outputs": []
    },
    {
      "cell_type": "code",
      "metadata": {
        "colab": {
          "base_uri": "https://localhost:8080/",
          "height": 295
        },
        "id": "OiPcG7JieMBy",
        "outputId": "0eac5742-b6ae-466d-8c2c-34dfadbea414"
      },
      "source": [
        "plt.scatter(X_train, y_train, color='red')\n",
        "plt.plot(X_train, lin_reg.predict(X_train), color='blue')\n",
        "plt.title('Canada Per Capita Income Prediction')\n",
        "plt.xlabel('Year')\n",
        "plt.ylabel('Per Capita Income')\n",
        "plt.show()"
      ],
      "execution_count": 98,
      "outputs": [
        {
          "output_type": "display_data",
          "data": {
            "image/png": "[encoded data removed]",
            "text/plain": [
              "<Figure size 432x288 with 1 Axes>"
            ]
          },
          "metadata": {
            "tags": [],
            "needs_background": "light"
          }
        }
      ]
    },
    {
      "cell_type": "code",
      "metadata": {
        "id": "4vClJA2OiW7A"
      },
      "source": [
        "#PREDICTING WITH DIFFERENT VALUES"
      ],
      "execution_count": 99,
      "outputs": []
    },
    {
      "cell_type": "code",
      "metadata": {
        "colab": {
          "base_uri": "https://localhost:8080/"
        },
        "id": "3A_j45veeYcq",
        "outputId": "4290325e-37bb-4f45-c404-49a886963242"
      },
      "source": [
        "lin_reg.predict([[2020]])"
      ],
      "execution_count": 100,
      "outputs": [
        {
          "output_type": "execute_result",
          "data": {
            "text/plain": [
              "array([44174.46899111])"
            ]
          },
          "metadata": {
            "tags": []
          },
          "execution_count": 100
        }
      ]
    },
    {
      "cell_type": "code",
      "metadata": {
        "id": "Y-okfXAofvwB"
      },
      "source": [
        ""
      ],
      "execution_count": 100,
      "outputs": []
    }
  ]
}